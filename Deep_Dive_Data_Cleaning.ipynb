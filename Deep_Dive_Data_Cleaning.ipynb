{
  "nbformat": 4,
  "nbformat_minor": 0,
  "metadata": {
    "colab": {
      "name": "Deep Dive Data Cleaning.ipynb",
      "provenance": [],
      "authorship_tag": "ABX9TyNE8Q4M8hzAnmtJL+pmEb1Q",
      "include_colab_link": true
    },
    "kernelspec": {
      "name": "python3",
      "display_name": "Python 3"
    },
    "language_info": {
      "name": "python"
    }
  },
  "cells": [
    {
      "cell_type": "markdown",
      "metadata": {
        "id": "view-in-github",
        "colab_type": "text"
      },
      "source": [
        "<a href=\"https://colab.research.google.com/github/VictorOmondi1997/Deep-Dive-Data-Cleaning/blob/main/Deep_Dive_Data_Cleaning.ipynb\" target=\"_parent\"><img src=\"https://colab.research.google.com/assets/colab-badge.svg\" alt=\"Open In Colab\"/></a>"
      ]
    },
    {
      "cell_type": "markdown",
      "source": [
        "|id|name|age|Address|created_on|last_online|\n",
        "|---|---|---|---|---|---|\n",
        "|0001|Victor Omondi|10|USIU|01-01-2021|01-01-2021|\n",
        "|0001|Victor Omondi|10|USIU|01-01-2021|01-01-2021|"
      ],
      "metadata": {
        "id": "vKzOQ3tZFxl7"
      }
    },
    {
      "cell_type": "code",
      "execution_count": null,
      "metadata": {
        "id": "-Un2-fJ7Fs9p"
      },
      "outputs": [],
      "source": [
        ""
      ]
    }
  ]
}